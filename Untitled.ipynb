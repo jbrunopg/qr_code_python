{
 "cells": [
  {
   "cell_type": "code",
   "execution_count": 2,
   "id": "c44ef921-ec49-4ad2-ad2f-846c60562640",
   "metadata": {},
   "outputs": [],
   "source": [
    "# Importação biblioteca\n",
    "\n",
    "import qrcode\n",
    "\n",
    "# Definindo o link e o tamanho do QR-Code\n",
    "\n",
    "data = 'https://www.linkedin.com/in/brunopgomes/'\n",
    "qr = qrcode.QRCode(version=1, box_size=10, border=5)\n",
    "qr.add_data(data)\n",
    "qr.make(fit=True)\n",
    "\n",
    "# Definindo as cores\n",
    "\n",
    "img = qr.make_image(fill_color='black', back_color='white')\n",
    "\n",
    "# Salvando Imagem\n",
    "\n",
    "img.save('qrcode.png')"
   ]
  }
 ],
 "metadata": {
  "kernelspec": {
   "display_name": "Python 3 (ipykernel)",
   "language": "python",
   "name": "python3"
  },
  "language_info": {
   "codemirror_mode": {
    "name": "ipython",
    "version": 3
   },
   "file_extension": ".py",
   "mimetype": "text/x-python",
   "name": "python",
   "nbconvert_exporter": "python",
   "pygments_lexer": "ipython3",
   "version": "3.9.13"
  }
 },
 "nbformat": 4,
 "nbformat_minor": 5
}
